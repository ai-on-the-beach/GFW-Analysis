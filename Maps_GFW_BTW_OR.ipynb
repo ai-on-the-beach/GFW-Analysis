{
 "cells": [
  {
   "cell_type": "markdown",
   "metadata": {},
   "source": [
    "### Global Fishing Watch"
   ]
  },
  {
   "cell_type": "code",
   "execution_count": null,
   "metadata": {},
   "outputs": [],
   "source": [
    "import glob\n",
    "import pandas as pd\n",
    "import numpy as np\n",
    "\n",
    "startYear = 2018\n",
    "endYear = 2019 \n",
    "\n",
    "def gfwData(startYear = startYear, endYear = endYear):\n",
    "    \n",
    "    All_GFW_Grid = pd.DataFrame()\n",
    "    for year in range(startYear, endYear):\n",
    "\n",
    "        yearby = glob.glob('Fishing_By_Vessel/' + str(year) + \"/*.csv\")\n",
    "\n",
    "        li = []\n",
    "        for yr in yearby:\n",
    "            df = pd.read_csv(yr, index_col=None, header=0)\n",
    "            li.append(df)\n",
    "\n",
    "        GFW_Year = pd.concat(li, axis=0, ignore_index=True)\n",
    "        All_GFW_Grid = pd.concat([All_GFW_Grid, GFW_Year])\n",
    "\n",
    "    All_GFW_Grid.lat_bin = All_GFW_Grid.lat_bin/10\n",
    "    All_GFW_Grid.lon_bin = All_GFW_Grid.lon_bin/10\n",
    "    \n",
    "    return All_GFW_Grid\n",
    "    \n",
    "All_GFW_Grid = gfwData()\n",
    "\n",
    "All_GFW_Grid.head()"
   ]
  },
  {
   "cell_type": "markdown",
   "metadata": {},
   "source": [
    "### OceanReach"
   ]
  },
  {
   "cell_type": "code",
   "execution_count": null,
   "metadata": {},
   "outputs": [],
   "source": [
    "import pandas as pd\n",
    "import numpy as np\n",
    "\n",
    "All_Animals_Oceanreach = pd.read_csv('Oceanreach/All_Animal_Data.csv')\n",
    "All_Animals_Oceanreach.head()"
   ]
  },
  {
   "cell_type": "code",
   "execution_count": null,
   "metadata": {},
   "outputs": [],
   "source": [
    "import pandas as pd\n",
    "import numpy as np\n",
    "\n",
    "Beneath_The_Waves_Sensor = pd.read_csv('Beneath_The_Waves/Beneath_The_Waves.csv').dropna(how='all')\n",
    "Beneath_The_Waves_Sensor.head(10)"
   ]
  },
  {
   "cell_type": "markdown",
   "metadata": {},
   "source": [
    "### Beneath the Waves"
   ]
  },
  {
   "cell_type": "code",
   "execution_count": null,
   "metadata": {},
   "outputs": [],
   "source": [
    "Gallagher_Tracks_BTW = pd.read_csv('Beneath_The_Waves/Gallagher_BTW_Tracks.csv') # .iloc[:15359,:]\n",
    "Gallagher_Tracks_BTW"
   ]
  },
  {
   "cell_type": "markdown",
   "metadata": {},
   "source": [
    "### Plot GFW BTW / OR"
   ]
  },
  {
   "cell_type": "code",
   "execution_count": null,
   "metadata": {},
   "outputs": [],
   "source": [
    "lats_gfw = np.array(All_GFW_Grid.lat_bin)\n",
    "lons_gfw = np.array(All_GFW_Grid.lon_bin)\n",
    "lats_or = np.array(All_Animals_Oceanreach.latitude)\n",
    "lons_or =np.array(All_Animals_Oceanreach.longitude)\n",
    "lats_btw = np.array(Gallagher_Tracks_BTW.lat)\n",
    "lons_btw =np.array(Gallagher_Tracks_BTW.lon)\n",
    "\n",
    "# # Map Boundaries Southern Chile\n",
    "# max_lat =  -40 \n",
    "# min_lat = -60 \n",
    "# max_lon = -60 \n",
    "# min_lon = -80 \n",
    "\n",
    "# Map Boundaries\n",
    "max_lat =  60\n",
    "min_lat = -60\n",
    "max_lon = 180\n",
    "min_lon = -180"
   ]
  },
  {
   "cell_type": "code",
   "execution_count": null,
   "metadata": {},
   "outputs": [],
   "source": [
    "# import matplotlib.pyplot as plt\n",
    "# from mpl_toolkits.basemap import Basemap\n",
    "# from matplotlib import colors,colorbar\n",
    "# import matplotlib.dates as mdates\n",
    "# from matplotlib.dates import DateFormatter\n",
    "# import seaborn as sns\n",
    "# %matplotlib inline\n",
    "\n",
    "# sns.set_style(\"white\")\n",
    "# plt.figure(figsize=(20, 35)) \n",
    "\n",
    "# m = Basemap(llcrnrlon = min_lon, llcrnrlat = min_lat,\n",
    "#             urcrnrlon = max_lon, urcrnrlat = max_lat, projection = 'mill', resolution ='l')\n",
    "\n",
    "# m.drawmapboundary()\n",
    "# m.fillcontinents(\"#cccccc\", lake_color = \"#cccccc\")\n",
    "# m.drawcountries()\n",
    "\n",
    "# parallels = np.arange(min_lat, max_lat, 20.)\n",
    "# m.drawparallels(parallels,labels=[1, 0, 0, 0],fontsize = 18, color = '#cccccc')\n",
    "# meridians = np.arange(min_lon, max_lon, 20.)\n",
    "# m.drawmeridians(meridians, labels = [0,0,0,1], fontsize = 18, color = '#cccccc')\n",
    "\n",
    "# m.drawmapboundary(fill_color = '#000102')\n",
    "# x,y= m(lons_gfw, lats_gfw)\n",
    "# size = 2\n",
    "# m.plot(x, y, marker = 'o', markersize = size, markeredgecolor = 'none',\n",
    "#        alpha = 1, linestyle = 'None', label = \"Global Fishing Watch\", color = \"green\")\n",
    "\n",
    "# x,y= m(lons_or, lats_or)\n",
    "# size = 2\n",
    "# m.plot(x, y,marker = 'o', markersize = size, markeredgecolor = 'none',\n",
    "#        alpha = 1 ,linestyle = 'None', label = \"OceanReach\", color = \"red\")\n",
    "\n",
    "# x,y= m(lons_btw, lats_btw)\n",
    "# size = 2\n",
    "# m.plot(x, y, marker = 'o', markersize = size, markeredgecolor = 'none',\n",
    "#        alpha = 1, linestyle = 'None', label = \"Beneath the Waves\", color = \"yellow\")\n",
    "\n",
    "# plt.title(\"GFW / OR / BTW\", fontsize = 45)\n",
    "# plt.legend(fontsize = 24, markerscale = 3)\n",
    "# plt.show()"
   ]
  },
  {
   "cell_type": "markdown",
   "metadata": {},
   "source": [
    "## TESTING"
   ]
  },
  {
   "cell_type": "markdown",
   "metadata": {},
   "source": [
    "### Select Part of Globe and Plot Heatmap"
   ]
  },
  {
   "cell_type": "code",
   "execution_count": null,
   "metadata": {},
   "outputs": [],
   "source": [
    "import warnings\n",
    "warnings.filterwarnings('ignore')\n",
    "\n",
    "from ipywidgets import widgets\n",
    "from mpl_toolkits.basemap import Basemap\n",
    "import numpy as np\n",
    "import matplotlib.pyplot as plt\n",
    "from matplotlib.patches import Polygon\n",
    "\n",
    "lat = widgets.IntRangeSlider(value=[-90, 90],\n",
    "    min=-90,\n",
    "    max=90,\n",
    "    step=1,\n",
    "    description='Latitude:',\n",
    "    disabled=False,\n",
    "    continuous_update=True,\n",
    "    orientation='horizontal',\n",
    "    readout=True,\n",
    ")\n",
    "\n",
    "lon = widgets.IntRangeSlider(\n",
    "    value=[-180, 180],\n",
    "    min=-180,\n",
    "    max=180,\n",
    "    step=1,\n",
    "    description='Longitude:',\n",
    "    disabled=False,\n",
    "    continuous_update=True,\n",
    "    orientation='horizontal',\n",
    "    readout=True,\n",
    ")\n",
    "\n",
    "ui = widgets.HBox([lat, lon])\n",
    "\n",
    "def draw_screen_poly( lats, lons, m):\n",
    "        x, y = m( lons, lats )\n",
    "        xy = zip(x, y)\n",
    "        poly = Polygon( list(xy), facecolor='red', alpha=0.4 )\n",
    "        plt.gca().add_patch(poly)\n",
    "        \n",
    "def f(lat, lon):\n",
    "\n",
    "    # Map Boundaries\n",
    "    max_lon = lon[1]#; print(\"Max Longitude: \", max_lon)\n",
    "    min_lon = lon[0]#; print(\"Min Longitude: \", min_lon)\n",
    "    max_lat = lat[1]#; print(\"Max Latitude: \", max_lat)\n",
    "    min_lat = lat[0]#; print(\"Min Latitude: \", min_lat)\n",
    "\n",
    "    lats = [ min_lat, max_lat, max_lat, min_lat ]\n",
    "    lons = [ min_lon, min_lon, max_lon, max_lon ]\n",
    "\n",
    "    m = Basemap(projection='cyl',lon_0=0)\n",
    "    m.drawcoastlines()\n",
    "    m.drawmapboundary()\n",
    "    draw_screen_poly( lats, lons, m )\n",
    "    \n",
    "    print('('+str(lat)+'),('+str(lon)+')')\n",
    "    plt.show()\n",
    "    \n",
    "\n",
    "out = widgets.interactive_output(f, {'lat': lat, 'lon': lon})\n",
    "\n",
    "display(ui, out)"
   ]
  },
  {
   "cell_type": "code",
   "execution_count": null,
   "metadata": {},
   "outputs": [],
   "source": [
    "### Detached fetch_species_distribution()\n",
    "\n",
    "import timeit\n",
    "start_time = timeit.default_timer()\n",
    "\n",
    "from sklearn.datasets import fetch_species_distributions\n",
    "import numpy as np\n",
    "import matplotlib.pyplot as plt\n",
    "from mpl_toolkits.basemap import Basemap\n",
    "from sklearn.datasets.species_distributions import construct_grids\n",
    "from sklearn.neighbors import KernelDensity\n",
    "from sklearn.datasets.base import Bunch\n",
    "\n",
    "bandwidth = 0.36\n",
    "\n",
    "import warnings\n",
    "warnings.filterwarnings('ignore')\n",
    "\n",
    "# from sklearn.datasets import fetch_species_distributions\n",
    "# data = fetch_species_distributions()\n",
    "        \n",
    "# Map Boundaries\n",
    "latlon = eval(out.outputs[0]['text'].rstrip())\n",
    "max_lon = latlon[1][1]; print(\"Max Longitude: \", latlon[1][1])\n",
    "min_lon = latlon[1][0]; print(\"Min Longitude: \", latlon[1][0])\n",
    "max_lat = latlon[0][1]; print(\"Max Latitude: \", latlon[0][1])\n",
    "min_lat = latlon[0][0]; print(\"Min Latitude: \", latlon[0][0])\n",
    "\n",
    "grid_size = 0.05 # Fixed\n",
    "x_left_lower_corner = min_lon\n",
    "y_left_lower_corner = min_lat\n",
    "\n",
    "# Ny = 1592 & Nx = 1212\n",
    "nearest_twentieth = lambda x: round(x*(1/grid_size)) / (1/grid_size)\n",
    "Nx = nearest_twentieth((max_lon - (min_lon))/ grid_size) \n",
    "Ny = nearest_twentieth((max_lat - (min_lat))/ grid_size)\n",
    "\n",
    "data = Bunch(x_left_lower_corner  = x_left_lower_corner,\n",
    "               y_left_lower_corner = y_left_lower_corner,\n",
    "               Nx = Nx, \n",
    "               Ny = Ny,\n",
    "               grid_size = grid_size)\n",
    "\n",
    "allData = All_GFW_Grid[['lat_bin','lon_bin','fishing_hours']].dropna()#.iloc[0:2000,:]\n",
    "\n",
    "# Get matrices/arrays of species IDs and locations\n",
    "fig, ax = plt.subplots(figsize=(20, 10))\n",
    "\n",
    "latlon = np.vstack([np.array(allData.lat_bin),\n",
    "                    np.array(allData.lon_bin)]).T\n",
    "\n",
    "xgrid, ygrid = construct_grids(data)\n",
    "\n",
    "# Set up the data grid for the contour plot\n",
    "X, Y = np.meshgrid(xgrid[::5], ygrid[::5][::-1])\n",
    "xy = np.vstack([Y.ravel(), X.ravel()]).T\n",
    "xy = np.radians(xy) # np.radians(xy[land_mask])\n",
    "\n",
    "# Create two side-by-side plots\n",
    "m = Basemap(projection='cyl', llcrnrlat=Y.min(),\n",
    "            urcrnrlat=Y.max(), llcrnrlon=X.min(),\n",
    "            urcrnrlon=X.max(), resolution='c')\n",
    "    \n",
    "m.drawmapboundary(fill_color='#DDEEFF') \n",
    "m.drawcoastlines()\n",
    "m.drawcountries()\n",
    "\n",
    "# # construct a spherical kernel density estimate of the distribution\n",
    "kde = KernelDensity(bandwidth = bandwidth, metric='haversine',\n",
    "                        kernel='gaussian', algorithm='ball_tree', atol=1, rtol=1) # atol=0 rtol=0 too much compute\n",
    "kde.fit(np.radians(latlon))\n",
    "\n",
    "\n",
    "Z = np.exp(kde.score_samples(xy)) # temp\n",
    "Z = Z.reshape(X.shape)\n",
    "\n",
    "# plot contours of the density\n",
    "levels = np.linspace(0, Z.max(), 1000)\n",
    "\n",
    "ax.contourf(X, Y, Z, levels=levels, cmap='Purples')\n",
    "\n",
    "# # Ocean vs Land Masking\n",
    "m.drawlsmask(ocean_color=(0, 0, 0, 0), land_color='lightgrey', lakes=True, zorder = 1)\n",
    "# #  m.drawlsmask(ocean_color='lightgrey', land_color=(0, 0, 0, 0), lakes=True, zorder = 1)\n",
    "\n",
    "# # plot locations\n",
    "m.scatter(latlon[:, 1], latlon[:, 0], \n",
    "          zorder = 3, cmap = 'rainbow', \n",
    "          alpha = .03, latlon = True, \n",
    "          s = np.array(allData.fishing_hours)*5)\n",
    "\n",
    "\n",
    "elapsed = timeit.default_timer() - start_time\n",
    "print('Seconds: ', round(elapsed))\n",
    "\n",
    "#####\n",
    "# References\n",
    "# https://github.com/scikit-learn/scikit-learn/blob/master/sklearn/datasets/species_distributions.py\n",
    "# https://jakevdp.github.io/PythonDataScienceHandbook/05.13-kernel-density-estimation.html\n",
    "# https://scikit-learn.org/stable/auto_examples/neighbors/plot_species_kde.html#sphx-glr-auto-examples-neighbors-plot-species-kde-py\n",
    "# https://pro.arcgis.com/en/pro-app/tool-reference/spatial-analyst/how-kernel-density-works.htm\n"
   ]
  },
  {
   "cell_type": "markdown",
   "metadata": {},
   "source": [
    "# Geodataframe based grids and occurance of vessels in those grids"
   ]
  },
  {
   "cell_type": "code",
   "execution_count": null,
   "metadata": {},
   "outputs": [],
   "source": []
  },
  {
   "cell_type": "code",
   "execution_count": null,
   "metadata": {},
   "outputs": [],
   "source": [
    "# Let's divide the map in to grid of 120 latitudes and 360 longitudes"
   ]
  },
  {
   "cell_type": "code",
   "execution_count": null,
   "metadata": {},
   "outputs": [],
   "source": [
    "from shapely.geometry import MultiLineString,mapping\n",
    "from shapely.ops import polygonize\n",
    "import geopandas as gpd\n",
    "all_lats=np.linspace(min_lat,max_lat,120)\n",
    "all_lons=np.linspace(min_lon,max_lon,360)\n",
    "llons, llats=np.meshgrid(all_lons, all_lats)"
   ]
  },
  {
   "cell_type": "markdown",
   "metadata": {},
   "source": [
    "## Let's take the points and generate a list of all the lines that will make up the polygon edges for all the grids"
   ]
  },
  {
   "cell_type": "code",
   "execution_count": null,
   "metadata": {},
   "outputs": [],
   "source": [
    "h1 = [((x1, yi), (x2, yi)) for x1, x2 in zip(all_lons[:-1], all_lons[1:]) for yi in all_lats]\n",
    "v1 = [((xi, y1), (xi, y2)) for y1, y2 in zip(all_lats[:-1], all_lats[1:]) for xi in all_lons]"
   ]
  },
  {
   "cell_type": "code",
   "execution_count": null,
   "metadata": {},
   "outputs": [],
   "source": [
    "grids = list(polygonize(MultiLineString(h1 + v1)))"
   ]
  },
  {
   "cell_type": "markdown",
   "metadata": {},
   "source": [
    "## Generate a geodf calles gridsgdf that has all the polygons corresponding to the grids"
   ]
  },
  {
   "cell_type": "code",
   "execution_count": null,
   "metadata": {},
   "outputs": [],
   "source": [
    "gridsgdf = gpd.GeoDataFrame(grids)\n",
    "crs = {'init': 'epsg:4326'}\n",
    "gridsgdf.crs=crs\n",
    "gridsgdf = gridsgdf.rename(columns={0:'polygeo'}).set_geometry('polygeo')\n"
   ]
  },
  {
   "cell_type": "code",
   "execution_count": null,
   "metadata": {},
   "outputs": [],
   "source": []
  },
  {
   "cell_type": "markdown",
   "metadata": {},
   "source": [
    "## Position locations from GFW to center of the GFW 'bins' which are 0.05 x 0.05 in degrees"
   ]
  },
  {
   "cell_type": "code",
   "execution_count": null,
   "metadata": {},
   "outputs": [],
   "source": [
    "All_GFW_Grid['lat_centroid'] = All_GFW_Grid.loc[:]['lat_bin']+0.05\n",
    "All_GFW_Grid['lon_centroid'] = All_GFW_Grid.loc[:]['lon_bin']+0.05"
   ]
  },
  {
   "cell_type": "code",
   "execution_count": null,
   "metadata": {},
   "outputs": [],
   "source": []
  },
  {
   "cell_type": "code",
   "execution_count": null,
   "metadata": {},
   "outputs": [],
   "source": [
    "from shapely.geometry import Point\n",
    "All_GFW_Grid['geometry'] = [Point(xy) for xy in zip(All_GFW_Grid['lon_centroid'], All_GFW_Grid['lat_centroid'])]"
   ]
  },
  {
   "cell_type": "markdown",
   "metadata": {},
   "source": [
    "## Now we create a geodataframe for the GFW points as well and call it gfwgdf"
   ]
  },
  {
   "cell_type": "code",
   "execution_count": null,
   "metadata": {},
   "outputs": [],
   "source": [
    "gfwgdf = gpd.GeoDataFrame(All_GFW_Grid, crs=crs, geometry=All_GFW_Grid['geometry'])"
   ]
  },
  {
   "cell_type": "code",
   "execution_count": null,
   "metadata": {},
   "outputs": [],
   "source": [
    "gfwgdf"
   ]
  },
  {
   "cell_type": "code",
   "execution_count": null,
   "metadata": {},
   "outputs": [],
   "source": [
    "joindf = gpd.sjoin(gfwgdf,gridsgdf, how=\"inner\", op=\"within\")"
   ]
  },
  {
   "cell_type": "code",
   "execution_count": null,
   "metadata": {},
   "outputs": [],
   "source": [
    "from shapely.geometry import MultiLineString,mapping\n",
    "    "
   ]
  },
  {
   "cell_type": "code",
   "execution_count": null,
   "metadata": {},
   "outputs": [],
   "source": [
    "joindf.columns"
   ]
  },
  {
   "cell_type": "code",
   "execution_count": null,
   "metadata": {},
   "outputs": [],
   "source": [
    "totfishhrsdf = joindf.groupby('index_right').agg({'fishing_hours':'sum'})"
   ]
  },
  {
   "cell_type": "code",
   "execution_count": null,
   "metadata": {},
   "outputs": [],
   "source": []
  },
  {
   "cell_type": "code",
   "execution_count": null,
   "metadata": {},
   "outputs": [],
   "source": [
    "gridsgdf=gridsgdf.reset_index().rename(columns={'index':'polyindex'})"
   ]
  },
  {
   "cell_type": "code",
   "execution_count": null,
   "metadata": {},
   "outputs": [],
   "source": [
    "totfishhrsdf=totfishhrsdf.reset_index()"
   ]
  },
  {
   "cell_type": "code",
   "execution_count": null,
   "metadata": {},
   "outputs": [],
   "source": [
    "polyfishdf=pd.merge(gridsgdf,totfishhrsdf, left_on='polyindex', right_on='index_right',how='inner')"
   ]
  },
  {
   "cell_type": "code",
   "execution_count": null,
   "metadata": {},
   "outputs": [],
   "source": [
    "import matplotlib.pyplot as plt\n",
    "from mpl_toolkits.basemap import Basemap\n",
    "from matplotlib import colors,colorbar\n",
    "import matplotlib.dates as mdates\n",
    "from matplotlib.dates import DateFormatter\n",
    "import seaborn as sns\n",
    "%matplotlib inline\n",
    "from matplotlib.patches import Polygon\n",
    "from matplotlib.collections import PatchCollection\n",
    "import matplotlib.cm as cm\n",
    "\n",
    "#sns.set_style(\\\"white\\\")\n",
    "plt.figure(figsize=(20,20))\n",
    "plt.figure(figsize=(35, 35))\n",
    "\n",
    "m = Basemap(llcrnrlon=min_lon, llcrnrlat=min_lat,\\\n",
    "           urcrnrlon=max_lon, urcrnrlat=max_lat, projection='mill', resolution ='l')\n",
    "\n",
    "m.drawmapboundary()\n",
    "m.fillcontinents(\"#cccccc\",lake_color=\"aqua\")\n",
    "parallels = np.arange(min_lat,max_lat,20.)\n",
    "m.drawparallels(parallels,labels=[1,0,0,0],fontsize=18,color='#cccccc')\n",
    "meridians = np.arange(min_lon,max_lon,20.)\n",
    "m.drawmeridians(meridians,labels=[0,0,0,1],fontsize=18,color='#cccccc')\n",
    "\n",
    "\n",
    "\n",
    "m.drawmapboundary(fill_color = 'aqua')\n",
    "\n",
    "colvals = list(polyfishdf['fishing_hours'])\n",
    "cmap=plt.cm.inferno\n",
    "norm=plt.Normalize(np.log(min(colvals)),np.log(max(colvals)))\n",
    "\n",
    "patches   = []\n",
    "ax = plt.gca() # get current axes instance\n",
    "for index, row in polyfishdf.iterrows():\n",
    "    color=cmap(norm(np.log(row['fishing_hours'])))\n",
    "    p=mapping(row['polygeo'])\n",
    "    l=[m(*xy) for xy in p['coordinates'][0]]\n",
    "    patches.append( Polygon(l,True, color=color))\n",
    "\n",
    "collection = PatchCollection(patches,match_original=True)\n",
    "ax.add_collection(collection)\n",
    "#ax.autoscale_view()\n",
    "\n",
    "sm = cm.ScalarMappable(norm=norm, cmap=cmap)\n",
    "sm.set_array([]) # can be an empty list, only needed for matplotlib < 3.1\n",
    "cb = plt.colorbar(sm, orientation='horizontal')\n",
    "ax2 = cb.ax\n",
    "cb.set_label(label='GFW - Total Fishing Hours (Logarithmic Scale)',size=32,weight='bold')\n",
    "ax2.tick_params(axis = 'both', which = 'major', labelsize = 24)\n",
    "ax2.tick_params(axis = 'both', which = 'minor', labelsize = 16)\n",
    "\n",
    "\n",
    "    \n",
    "\n",
    "\n",
    "plt.show()\n"
   ]
  },
  {
   "cell_type": "code",
   "execution_count": null,
   "metadata": {},
   "outputs": [],
   "source": []
  },
  {
   "cell_type": "code",
   "execution_count": null,
   "metadata": {},
   "outputs": [],
   "source": []
  }
 ],
 "metadata": {
  "language_info": {
   "name": "python",
   "pygments_lexer": "ipython3"
  }
 },
 "nbformat": 4,
 "nbformat_minor": 2
}
