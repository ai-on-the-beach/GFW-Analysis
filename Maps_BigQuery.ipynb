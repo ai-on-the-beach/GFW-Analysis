{
 "cells": [
  {
   "cell_type": "code",
   "execution_count": null,
   "metadata": {},
   "outputs": [],
   "source": [
    "# Adapted from code from: https://github.com/GlobalFishingWatch/data-blog-code\n",
    "# pip install bq\n",
    "# conda install basemap\n",
    "\n",
    "# Writup on NM dims and using GIS layers\n",
    "# https://globalfishingwatch.org/data-blog/working-with-our-downloadable-public-data-in-r/\n",
    "\n",
    "# Interactive\n",
    "# https://globalfishingwatch.org/map/\n",
    "\n",
    "# Matplotlib Basemap Examples\n",
    "# https://matplotlib.org/basemap/\n",
    "\n",
    "# Set up BigQuery API key\n",
    "# https://jingsblog.com/2018/11/27/connect-your-jupyter-notebook-to-the-bigquery\n",
    "\n",
    "# Query Examples\n",
    "# https://globalfishingwatch.org/data-blog/our-data-in-bigquery/"
   ]
  },
  {
   "cell_type": "code",
   "execution_count": null,
   "metadata": {},
   "outputs": [],
   "source": [
    "import bq\n",
    "import time\n",
    "import numpy as np\n",
    "import matplotlib.pyplot as plt\n",
    "from mpl_toolkits.basemap import Basemap\n",
    "from matplotlib import colors,colorbar\n",
    "import matplotlib.dates as mdates\n",
    "from matplotlib.dates import DateFormatter\n",
    "from mpl_toolkits.basemap import Basemap\n",
    "%matplotlib inline\n",
    "import pandas as pd\n",
    "from datetime import datetime, timedelta\n",
    "import seaborn as sns"
   ]
  },
  {
   "cell_type": "code",
   "execution_count": null,
   "metadata": {},
   "outputs": [],
   "source": [
    "from google.cloud import bigquery\n",
    "import os\n",
    "\n",
    "# Edit bq.json based on download from API Key article above\n",
    "crendential_path = str(os.path.expanduser('~')) + \"\\\\Documents\\\\bq.json\"\n",
    "os.environ['GOOGLE_APPLICATION_CREDENTIALS'] = crendential_path\n",
    "\n",
    "# Instantiates a Bigquery client\n",
    "client = bigquery.Client()\n",
    "\n",
    "query = '''SELECT *\n",
    "FROM\n",
    "  `global-fishing-watch.global_footprint_of_fisheries.fishing_effort_byvessel`\n",
    "WHERE\n",
    "  _PARTITIONTIME >= \"2016-11-01 00:00:00\"\n",
    "   AND _PARTITIONTIME < \"2016-12-30 00:00:00\"\n",
    "'''\n",
    "\n",
    "vessel = client.query(\n",
    "    query,\n",
    "    # Location must match that of the dataset(s) referenced in the query.\n",
    "    location=\"US\",\n",
    ") # API request - starts the query\n"
   ]
  },
  {
   "cell_type": "code",
   "execution_count": null,
   "metadata": {},
   "outputs": [],
   "source": [
    "# vessel.to_dataframe()"
   ]
  },
  {
   "cell_type": "code",
   "execution_count": null,
   "metadata": {},
   "outputs": [],
   "source": [
    "import numpy as np\n",
    "\n",
    "# lats_terr = np.array([float(v[1])/10 for v in vessel if v[3]==\"terrestrial\"])\n",
    "# lons_terr = np.array([float(v[2])/10 for v in vessel if v[3]==\"terrestrial\"])\n",
    "lats = np.array([float(v[1])/10 for v in vessel if v[3]!=\"terrestrial\"])\n",
    "lons = np.array([float(v[2])/10 for v in vessel if v[3]!=\"terrestrial\"])\n",
    "\n",
    "# Caused problems with land intersects\n",
    "# for i in range(len(lons)): # adjust for the dateline\n",
    "#     if lons[i]<0: lons[i] += 360/10\n",
    "        \n",
    "max_lat = lats.max()\n",
    "min_lat = lats.min()\n",
    "max_lon = lons.max()\n",
    "min_lon = lons.min()"
   ]
  },
  {
   "cell_type": "code",
   "execution_count": null,
   "metadata": {},
   "outputs": [],
   "source": [
    "# figure out what the bounds should be\n",
    "print(min_lat, max_lat)\n",
    "print(min_lon, max_lon)"
   ]
  },
  {
   "cell_type": "code",
   "execution_count": null,
   "metadata": {},
   "outputs": [],
   "source": [
    "# # adjust the bounds out a bit to get more of Japan and China\n",
    "# min_lat = -40\n",
    "# max_lat = 50\n",
    "# max_lon = 180\n",
    "# min_lon = 0"
   ]
  },
  {
   "cell_type": "code",
   "execution_count": null,
   "metadata": {},
   "outputs": [],
   "source": [
    "sns.set_style(\"white\")\n",
    "plt.figure(figsize=(20,20)) \n",
    "\n",
    "m = Basemap(llcrnrlon=min_lon, llcrnrlat=min_lat,\n",
    "            urcrnrlon=max_lon, urcrnrlat=max_lat, projection='mill', resolution ='l')\n",
    "\n",
    "m.drawmapboundary()\n",
    "m.fillcontinents(\"#cccccc\",lake_color=\"#cccccc\")\n",
    "parallels = np.arange(min_lat,max_lat,20.)\n",
    "m.drawparallels(parallels,labels=[1,0,0,0],fontsize=18,color='#cccccc')\n",
    "meridians = np.arange(min_lon,max_lon,20.)\n",
    "m.drawmeridians(meridians,labels=[0,0,0,1],fontsize=18,color='#cccccc')\n",
    "\n",
    "m.drawmapboundary(fill_color='#A2C3FF')\n",
    "m.drawcountries()\n",
    "x,y= m(lons,lats)\n",
    "size = 3\n",
    "m.plot(x,y,marker = 'o',markersize=size,markeredgecolor = 'none',\n",
    "       alpha = 1,linestyle='None', label=\"Satellite\")\n",
    "\n",
    "# x,y= m(lons_terr,lats_terr)\n",
    "# size = 3\n",
    "# m.plot(x,y,marker = 'o',markersize=size,markeredgecolor = 'none',\n",
    "#        alpha = 1,linestyle='None', label=\"Terrestrial\", color = \"red\")\n",
    "\n",
    "\n",
    "plt.title(\"All Vessels\", \n",
    "         fontsize=29)\n",
    "plt.legend(fontsize=24)\n",
    "plt.show()"
   ]
  },
  {
   "cell_type": "code",
   "execution_count": null,
   "metadata": {},
   "outputs": [],
   "source": []
  },
  {
   "cell_type": "code",
   "execution_count": null,
   "metadata": {},
   "outputs": [],
   "source": []
  }
 ],
 "metadata": {
  "language_info": {
   "name": "python",
   "pygments_lexer": "ipython3"
  }
 },
 "nbformat": 4,
 "nbformat_minor": 1
}
