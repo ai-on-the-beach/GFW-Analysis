{
 "cells": [
  {
   "cell_type": "code",
   "execution_count": null,
   "metadata": {},
   "outputs": [],
   "source": [
    "import pandas as pd\n",
    "import numpy as np"
   ]
  },
  {
   "cell_type": "markdown",
   "metadata": {},
   "source": [
    "### Ocean Research"
   ]
  },
  {
   "cell_type": "code",
   "execution_count": null,
   "metadata": {},
   "outputs": [],
   "source": [
    "All_Animals_Oceanreach = pd.read_csv('Oceanreach/All_Animal_Data.csv')\n",
    "All_Animals_Oceanreach.head(10)"
   ]
  },
  {
   "cell_type": "code",
   "execution_count": null,
   "metadata": {},
   "outputs": [],
   "source": [
    "print(\"Latitude Min:\", All_Animals_Oceanreach.latitude.min())\n",
    "print(\"Latitude Max:\", All_Animals_Oceanreach.latitude.max())\n",
    "\n",
    "print(\"Longitude Min:\", All_Animals_Oceanreach.longitude.min())\n",
    "print(\"Longitude Max:\", All_Animals_Oceanreach.longitude.max())"
   ]
  },
  {
   "cell_type": "code",
   "execution_count": null,
   "metadata": {},
   "outputs": [],
   "source": [
    "Complete_Oceanreach = pd.read_csv('Oceanreach/complete_df.csv').dropna(how='all')\n",
    "Complete_Oceanreach.head(10)"
   ]
  },
  {
   "cell_type": "code",
   "execution_count": null,
   "metadata": {},
   "outputs": [],
   "source": [
    "print(\"Latitude Min:\", Complete_Oceanreach.lat.min())\n",
    "print(\"Latitude Max:\", Complete_Oceanreach.lat.max())\n",
    "\n",
    "print(\"Longitude Min:\", Complete_Oceanreach.long.min())\n",
    "print(\"Longitude Max:\", Complete_Oceanreach.long.max())"
   ]
  },
  {
   "cell_type": "markdown",
   "metadata": {},
   "source": [
    "### Beneath the Waves"
   ]
  },
  {
   "cell_type": "code",
   "execution_count": null,
   "metadata": {},
   "outputs": [],
   "source": [
    "AG_GFW_Meta_BTW = pd.read_csv('Beneath_The_Waves/AG_GFW_Meta.csv').dropna(how='all')\n",
    "AG_GFW_Meta_BTW.head(10)"
   ]
  },
  {
   "cell_type": "code",
   "execution_count": null,
   "metadata": {},
   "outputs": [],
   "source": [
    "print(\"Latitude Min:\", AG_GFW_Meta_BTW.TagLat.min())\n",
    "print(\"Latitude Max:\", AG_GFW_Meta_BTW.TagLat.max())\n",
    "\n",
    "print(\"Longitude Min:\", AG_GFW_Meta_BTW.TagLong.min())\n",
    "print(\"Longitude Max:\", AG_GFW_Meta_BTW.TagLong.max())"
   ]
  },
  {
   "cell_type": "code",
   "execution_count": null,
   "metadata": {},
   "outputs": [],
   "source": [
    "Beneath_The_Waves_Sensor = pd.read_csv('Beneath_The_Waves/Beneath_The_Waves.csv').dropna(how='all')\n",
    "Beneath_The_Waves_Sensor.head(10)"
   ]
  },
  {
   "cell_type": "code",
   "execution_count": null,
   "metadata": {},
   "outputs": [],
   "source": [
    "print(\"Latitude Min:\", Beneath_The_Waves_Sensor.Latitude.min())\n",
    "print(\"Latitude Max:\", Beneath_The_Waves_Sensor.Latitude.max())\n",
    "\n",
    "print(\"Longitude Min:\", Beneath_The_Waves_Sensor.Longitude.min())\n",
    "print(\"Longitude Max:\", Beneath_The_Waves_Sensor.Longitude.max())"
   ]
  },
  {
   "cell_type": "code",
   "execution_count": null,
   "metadata": {},
   "outputs": [],
   "source": [
    "Gallagher_Tracks_BTW = pd.read_csv('Beneath_The_Waves/Gallagher_BTW_Tracks.csv')\n",
    "Gallagher_Tracks_BTW.head(10)"
   ]
  },
  {
   "cell_type": "code",
   "execution_count": null,
   "metadata": {},
   "outputs": [],
   "source": [
    "print(\"Latitude Min:\", Gallagher_Tracks_BTW.lat.min())\n",
    "print(\"Latitude Max:\", Gallagher_Tracks_BTW.lat.max())\n",
    "\n",
    "print(\"Longitude Min:\", Gallagher_Tracks_BTW.lon.min())\n",
    "print(\"Longitude Max:\", Gallagher_Tracks_BTW.lon.max())"
   ]
  },
  {
   "cell_type": "markdown",
   "metadata": {},
   "source": [
    "### Global Fishing Watch (GFW)"
   ]
  },
  {
   "cell_type": "code",
   "execution_count": null,
   "metadata": {},
   "outputs": [],
   "source": [
    "import glob\n",
    "import pandas as pd\n",
    "import numpy as np\n",
    "\n",
    "def gfwData():\n",
    "    \n",
    "    All_GFW_Grid = pd.DataFrame()\n",
    "    for year in range(2012, 2019):\n",
    "\n",
    "        yearby = glob.glob('Fishing_By_Vessel/' + str(year) + \"\\*.csv\")\n",
    "\n",
    "        li = []\n",
    "        for yr in yearby:\n",
    "            df = pd.read_csv(yr, index_col=None, header=0)\n",
    "            li.append(df)\n",
    "\n",
    "        GFW_Year = pd.concat(li, axis=0, ignore_index=True)\n",
    "        All_GFW_Grid = pd.concat([All_GFW_Grid, GFW_Year])\n",
    "\n",
    "    All_GFW_Grid.lat_bin = All_GFW_Grid.lat_bin/10\n",
    "    All_GFW_Grid.lon_bin = All_GFW_Grid.lon_bin/10\n",
    "    \n",
    "    return All_GFW_Grid\n",
    "    \n",
    "All_GFW_Grid = gfwData()\n",
    "\n",
    "All_GFW_Grid.head"
   ]
  },
  {
   "cell_type": "code",
   "execution_count": null,
   "metadata": {},
   "outputs": [],
   "source": [
    "print(\"Latitude Min:\", All_GFW_Grid.lat_bin.min())\n",
    "print(\"Latitude Max:\", All_GFW_Grid.lat_bin.max())\n",
    "\n",
    "print(\"Longitude Min:\", All_GFW_Grid.lon_bin.min())\n",
    "print(\"Longitude Max:\", All_GFW_Grid.lon_bin.max())"
   ]
  },
  {
   "cell_type": "markdown",
   "metadata": {},
   "source": [
    "### Data Attr"
   ]
  },
  {
   "cell_type": "code",
   "execution_count": null,
   "metadata": {},
   "outputs": [],
   "source": [
    "# import pickle\n",
    "# pickle_out = open(\"frame12.pickle\",\"wb\")\n",
    "# pickle.dump(frame12,pickle_out)\n",
    "# pickle_out.close()"
   ]
  }
 ],
 "metadata": {
  "language_info": {
   "name": "python",
   "pygments_lexer": "ipython3"
  }
 },
 "nbformat": 4,
 "nbformat_minor": 2
}
